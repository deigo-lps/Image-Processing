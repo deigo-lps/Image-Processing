{
  "nbformat": 4,
  "nbformat_minor": 0,
  "metadata": {
    "colab": {
      "provenance": [],
      "authorship_tag": "ABX9TyMbAbUqxsCCWZQuxLtNF4qs",
      "include_colab_link": true
    },
    "kernelspec": {
      "name": "python3",
      "display_name": "Python 3"
    },
    "language_info": {
      "name": "python"
    }
  },
  "cells": [
    {
      "cell_type": "markdown",
      "metadata": {
        "id": "view-in-github",
        "colab_type": "text"
      },
      "source": [
        "<a href=\"https://colab.research.google.com/github/deigo-lps/Image-Processing/blob/main/Atividade_8.ipynb\" target=\"_parent\"><img src=\"https://colab.research.google.com/assets/colab-badge.svg\" alt=\"Open In Colab\"/></a>"
      ]
    },
    {
      "cell_type": "code",
      "execution_count": null,
      "metadata": {
        "id": "K8Llqg42FtO-"
      },
      "outputs": [],
      "source": [
        "from PIL import Image\n",
        "from skimage.filters import threshold_otsu\n",
        "import numpy as np\n",
        "import matplotlib.pyplot as plt"
      ]
    },
    {
      "cell_type": "code",
      "source": [
        "def op_morfologica(binary_array, estruturante, op):\n",
        "    # pega dimensções da imagem\n",
        "    img_linhas, img_colunas = binary_array.shape\n",
        "    # pega dimenções do elemento estruturante\n",
        "    el_linhas, el_colunas = estruturante.shape\n",
        "\n",
        "    # Adiciona preenchimento na imagem\n",
        "    padding_x = el_linhas // 2\n",
        "    padding_y = el_colunas // 2\n",
        "    img_preenchida = np.pad(\n",
        "        binary_array, ((padding_y, padding_y), (padding_x, padding_x)), 'constant')\n",
        "\n",
        "    output_img = np.zeros_like(binary_array)\n",
        "\n",
        "    for i in range(padding_y, img_linhas + padding_y):\n",
        "        for j in range(padding_x, img_colunas + padding_x):\n",
        "            vizinhanca = img_preenchida[i-padding_y:i +\n",
        "                                        padding_y+1, j-padding_x:j+padding_x+1]\n",
        "            if op == 'erosion':\n",
        "                if np.all(np.logical_and(vizinhanca, estruturante)):\n",
        "                    output_img[i-padding_y, j-padding_x] = 1\n",
        "            elif op == 'dilation':\n",
        "                if np.any(np.logical_and(vizinhanca, estruturante)):\n",
        "                    output_img[i-padding_y, j-padding_x] = 1\n",
        "\n",
        "    return output_img"
      ],
      "metadata": {
        "id": "5YXllhmPIL6n"
      },
      "execution_count": null,
      "outputs": []
    },
    {
      "cell_type": "code",
      "source": [
        "img = np.array(Image.open('tecido.bmp').convert('L'))"
      ],
      "metadata": {
        "id": "fBKzJMDbHXes"
      },
      "execution_count": null,
      "outputs": []
    },
    {
      "cell_type": "code",
      "source": [
        "threshold = threshold_otsu(img)\n",
        "print(\"Limiar: \",threshold)"
      ],
      "metadata": {
        "colab": {
          "base_uri": "https://localhost:8080/"
        },
        "id": "eUkLPPJXHq96",
        "outputId": "6c02d9f9-bb28-4e3d-98de-8c09aab8f9df"
      },
      "execution_count": null,
      "outputs": [
        {
          "output_type": "stream",
          "name": "stdout",
          "text": [
            "Limiar:  189\n"
          ]
        }
      ]
    },
    {
      "cell_type": "code",
      "source": [
        "binary_array = img < threshold\n",
        "Image.fromarray(binary_array).show()"
      ],
      "metadata": {
        "colab": {
          "base_uri": "https://localhost:8080/",
          "height": 304
        },
        "id": "jCMlsimVHtJv",
        "outputId": "43fcac5e-394a-4edd-deaf-e03f998ca99f"
      },
      "execution_count": null,
      "outputs": [
        {
          "output_type": "display_data",
          "data": {
            "text/plain": [
              "<PIL.Image.Image image mode=1 size=287x287 at 0x7F3556055510>"
            ],
            "image/png": "[encoded data removed]"
          },
          "metadata": {}
        }
      ]
    },
    {
      "cell_type": "code",
      "source": [
        "plt.hist(img.flatten(),bins=256,range=(0, 256))\n",
        "plt.title(\"Histograma Com Limiar\")\n",
        "plt.axvline(threshold,color='r')\n",
        "plt.show()"
      ],
      "metadata": {
        "colab": {
          "base_uri": "https://localhost:8080/",
          "height": 452
        },
        "id": "ApGVXLjuHyEZ",
        "outputId": "9646ae4f-5c09-4034-ce1e-daf92f0bf38e"
      },
      "execution_count": null,
      "outputs": [
        {
          "output_type": "display_data",
          "data": {
            "text/plain": [
              "<Figure size 640x480 with 1 Axes>"
            ],
            "image/png": "[encoded data removed]"
          },
          "metadata": {}
        }
      ]
    },
    {
      "cell_type": "code",
      "source": [
        "estruturante = np.array([[1, 1, 1, 1, 1],\n",
        "                         [1, 1, 1, 1, 1],\n",
        "                         [1, 1, 1, 1, 1],\n",
        "                         [1, 1, 1, 1, 1],\n",
        "                         [1, 1, 1, 1, 1],])"
      ],
      "metadata": {
        "id": "NY_R2gkLH1rT"
      },
      "execution_count": null,
      "outputs": []
    },
    {
      "cell_type": "code",
      "source": [
        "Image.fromarray(op_morfologica(op_morfologica(binary_array, estruturante,'erosion'), estruturante, 'dilation')).show()"
      ],
      "metadata": {
        "colab": {
          "base_uri": "https://localhost:8080/",
          "height": 304
        },
        "id": "AVBTGVoSIJOS",
        "outputId": "2d5f36db-f76a-47f2-eba0-7b36a07dc06f"
      },
      "execution_count": null,
      "outputs": [
        {
          "output_type": "display_data",
          "data": {
            "text/plain": [
              "<PIL.Image.Image image mode=1 size=287x287 at 0x7F3557875E40>"
            ],
            "image/png": "[encoded data removed]"
          },
          "metadata": {}
        }
      ]
    }
  ]
}