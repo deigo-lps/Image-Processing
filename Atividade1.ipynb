{
  "nbformat": 4,
  "nbformat_minor": 0,
  "metadata": {
    "colab": {
      "provenance": [],
      "authorship_tag": "ABX9TyNYkOjmwEmYXhdMgBCGTvqa",
      "include_colab_link": true
    },
    "kernelspec": {
      "name": "python3",
      "display_name": "Python 3"
    },
    "language_info": {
      "name": "python"
    }
  },
  "cells": [
    {
      "cell_type": "markdown",
      "metadata": {
        "id": "view-in-github",
        "colab_type": "text"
      },
      "source": [
        "<a href=\"https://colab.research.google.com/github/deigo-lps/Image-Processing/blob/main/Atividade1.ipynb\" target=\"_parent\"><img src=\"https://colab.research.google.com/assets/colab-badge.svg\" alt=\"Open In Colab\"/></a>"
      ]
    },
    {
      "cell_type": "code",
      "execution_count": null,
      "metadata": {
        "id": "GvC7EpoVgZjX"
      },
      "outputs": [],
      "source": [
        "from PIL import Image,ImageDraw\n",
        "import numpy as np\n",
        "import math\n",
        "import random\n",
        "dimensao_imagem = 256"
      ]
    },
    {
      "cell_type": "code",
      "source": [
        "def cria_imagem(quantidade_de_quadrados, dimensao_imagem, brilho_inicial):\n",
        "    img = Image.new('L', (dimensao_imagem, dimensao_imagem))\n",
        "    array_imagem = np.array(img)\n",
        "    brilho = brilho_inicial\n",
        "    aumento_brilho = brilho_inicial/quantidade_de_quadrados\n",
        "    dimensao_quadrado = int(dimensao_imagem/math.sqrt(quantidade_de_quadrados))\n",
        "    for i in range(dimensao_quadrado, dimensao_imagem+1, dimensao_quadrado):\n",
        "        for j in range(dimensao_quadrado, dimensao_imagem+1, dimensao_quadrado):\n",
        "            array_imagem[i-dimensao_quadrado:i, j-dimensao_quadrado:j] = brilho\n",
        "            brilho = brilho + aumento_brilho\n",
        "    img = Image.fromarray(array_imagem)\n",
        "    img.show()\n",
        "    return array_imagem"
      ],
      "metadata": {
        "id": "o4vkVuv8geLY"
      },
      "execution_count": null,
      "outputs": []
    },
    {
      "cell_type": "markdown",
      "source": [
        "Imagens criadas com a biblioteca Pillow no modo L (Luminance) tem uma taxa de amostragem de 8bits.\n",
        "https://pillow.readthedocs.io/en/stable/handbook/concepts.html#concept-modes"
      ],
      "metadata": {
        "id": "30P680cpmoQP"
      }
    },
    {
      "cell_type": "code",
      "source": [
        "img1 = cria_imagem(1, dimensao_imagem, 128)"
      ],
      "metadata": {
        "colab": {
          "base_uri": "https://localhost:8080/",
          "height": 273
        },
        "id": "eGSdXNFxhN1Z",
        "outputId": "e23b6386-5e7c-46f2-905e-2c45e5483156"
      },
      "execution_count": null,
      "outputs": [
        {
          "output_type": "display_data",
          "data": {
            "text/plain": [
              "<PIL.Image.Image image mode=L size=256x256 at 0x7FBDFCC676A0>"
            ],
            "image/png": "[encoded data removed]"
          },
          "metadata": {}
        }
      ]
    },
    {
      "cell_type": "code",
      "source": [
        "img2 = cria_imagem(4, dimensao_imagem, 128)"
      ],
      "metadata": {
        "colab": {
          "base_uri": "https://localhost:8080/",
          "height": 273
        },
        "id": "KEE6Ka5jhKne",
        "outputId": "4c64ad6d-9a64-4635-9c99-39b447badf34"
      },
      "execution_count": null,
      "outputs": [
        {
          "output_type": "display_data",
          "data": {
            "text/plain": [
              "<PIL.Image.Image image mode=L size=256x256 at 0x7FBDFCC67F70>"
            ],
            "image/png": "[encoded data removed]"
          },
          "metadata": {}
        }
      ]
    },
    {
      "cell_type": "code",
      "source": [
        "img3 = cria_imagem(16, dimensao_imagem, 128)"
      ],
      "metadata": {
        "colab": {
          "base_uri": "https://localhost:8080/",
          "height": 273
        },
        "id": "jLUjSBhahL08",
        "outputId": "e9e9c00e-d328-4465-dcdc-ca7cfa86b809"
      },
      "execution_count": null,
      "outputs": [
        {
          "output_type": "display_data",
          "data": {
            "text/plain": [
              "<PIL.Image.Image image mode=L size=256x256 at 0x7FBDFD97ED40>"
            ],
            "image/png": "[encoded data removed]"
          },
          "metadata": {}
        }
      ]
    },
    {
      "cell_type": "code",
      "source": [
        "\n",
        "def label_sectors(img,sectors,brilho_inicial):\n",
        "  txt_img = Image.new('RGBA', (dimensao_imagem, dimensao_imagem), (255, 255, 255, 0))\n",
        "  draw = ImageDraw.Draw(txt_img)\n",
        "  aumento_brilho = int(brilho_inicial/sectors)\n",
        "  sectors = int(dimensao_imagem/math.sqrt(sectors))\n",
        "  for i in range(sectors,dimensao_imagem+1,sectors):\n",
        "    for j in range(sectors,dimensao_imagem+1,sectors):\n",
        "      x = j - sectors // 2\n",
        "      y = i - sectors // 2\n",
        "      draw.text((x-7, y-7), str(brilho_inicial), fill=(0, 0, 0, 255), anchor=\"mm\")\n",
        "      brilho_inicial = brilho_inicial + aumento_brilho\n",
        "  Image.alpha_composite(Image.fromarray(img).convert('RGBA'), txt_img).convert('L').show()\n",
        "\n",
        "label_sectors(img1,1,128)\n",
        "label_sectors(img2,4,128)\n",
        "label_sectors(img3,16,128)\n"
      ],
      "metadata": {
        "colab": {
          "base_uri": "https://localhost:8080/",
          "height": 785
        },
        "id": "yCv6boaAXID2",
        "outputId": "0cde512f-b5ef-4142-d70a-bf9bf5a5119c"
      },
      "execution_count": null,
      "outputs": [
        {
          "output_type": "display_data",
          "data": {
            "text/plain": [
              "<PIL.Image.Image image mode=L size=256x256 at 0x7FBDC30B8850>"
            ],
            "image/png": "[encoded data removed]"
          },
          "metadata": {}
        },
        {
          "output_type": "display_data",
          "data": {
            "text/plain": [
              "<PIL.Image.Image image mode=L size=256x256 at 0x7FBDC30BBF40>"
            ],
            "image/png": "[encoded data removed]"
          },
          "metadata": {}
        },
        {
          "output_type": "display_data",
          "data": {
            "text/plain": [
              "<PIL.Image.Image image mode=L size=256x256 at 0x7FBDC30BB4F0>"
            ],
            "image/png": "[encoded data removed]"
          },
          "metadata": {}
        }
      ]
    },
    {
      "cell_type": "code",
      "source": [
        "def hoshen_kopelman(img_array, cor_atual, id_regiao):\n",
        "    agrupamentos_array = np.zeros((len(img_array), len(img_array))).astype(int)\n",
        "    agrupamento_atual = id_regiao\n",
        "    lista_agrupamentos = np.zeros(len(img_array)*len(img_array)).astype(int)\n",
        "    for i in range(0, len(img_array)*len(img_array)):\n",
        "        lista_agrupamentos[i] = i\n",
        "    for x in range(0, len(img_array)):\n",
        "        for y in range(0, len(img_array)):\n",
        "            if img_array[x][y] == cor_atual:\n",
        "                esquerda = agrupamentos_array[x][y-1]\n",
        "                acima = agrupamentos_array[x-1][y]\n",
        "                diagonal_sup_esq = agrupamentos_array[x - 1][y-1] if (x-1 >= 0 and y-1 >= 0) else 0\n",
        "                diagonal_sup_dir = agrupamentos_array[x-1][y+1] if (x-1 >= 0 and y+1 < len(img_array)) else 0\n",
        "                if esquerda == 0 and acima == 0 and diagonal_sup_esq == 0 and diagonal_sup_dir == 0:\n",
        "                    agrupamento_atual += 1\n",
        "                    agrupamentos_array[x][y] = agrupamento_atual\n",
        "                else:\n",
        "                    vizinhos = [i for i in [esquerda, acima, diagonal_sup_esq, diagonal_sup_dir] if i != 0]\n",
        "                    min_vizinho = min(vizinhos)\n",
        "                    agrupamentos_array[x][y] = min_vizinho\n",
        "                    for v in vizinhos:\n",
        "                        if v != min_vizinho:\n",
        "                            union(min_vizinho, v, lista_agrupamentos)\n",
        "    return agrupamentos_array"
      ],
      "metadata": {
        "id": "xAAiSZwwhlPB"
      },
      "execution_count": null,
      "outputs": []
    },
    {
      "cell_type": "code",
      "source": [
        "def encontra_agrupamentos(dimensao_imagem, img_array):\n",
        "    valores_profundidade = []\n",
        "    for linha in img_array:\n",
        "        for valor in linha:\n",
        "            if not valor in valores_profundidade and valor != 0:\n",
        "                valores_profundidade.append(valor)\n",
        "\n",
        "    matriz = np.matrix([[0]*dimensao_imagem]*dimensao_imagem)\n",
        "    i = 0\n",
        "    for valor in valores_profundidade:\n",
        "        matriz = np.matrix(hoshen_kopelman(img2, valor, i)) + matriz\n",
        "        i += 1\n",
        "    return matriz, i"
      ],
      "metadata": {
        "id": "6Lr6e8FIhZYw"
      },
      "execution_count": null,
      "outputs": []
    },
    {
      "cell_type": "code",
      "source": [
        "[agrupamentos, num_agrupamentos] = encontra_agrupamentos(dimensao_imagem, img2)\n",
        "print(agrupamentos)\n",
        "print(\"numero de componentes conexos: {}\".format(num_agrupamentos))"
      ],
      "metadata": {
        "colab": {
          "base_uri": "https://localhost:8080/"
        },
        "id": "MzKFXF2Ahunf",
        "outputId": "80ed5fd0-514d-4797-a6f7-2b20afd0fb58"
      },
      "execution_count": null,
      "outputs": [
        {
          "output_type": "stream",
          "name": "stdout",
          "text": [
            "[[1 1 1 ... 2 2 2]\n",
            " [1 1 1 ... 2 2 2]\n",
            " [1 1 1 ... 2 2 2]\n",
            " ...\n",
            " [3 3 3 ... 4 4 4]\n",
            " [3 3 3 ... 4 4 4]\n",
            " [3 3 3 ... 4 4 4]]\n",
            "numero de componentes conexos: 4\n"
          ]
        }
      ]
    },
    {
      "cell_type": "code",
      "source": [
        "primeiro_componente = random.randint(1, num_agrupamentos)\n",
        "segundo_componente = primeiro_componente\n",
        "while segundo_componente == primeiro_componente:\n",
        "    segundo_componente = random.randint(1, num_agrupamentos)\n",
        "\n",
        "def get_center(componente):\n",
        "    def get_high(componente):\n",
        "        for i in range(len(agrupamentos)):\n",
        "            for j in range(len(agrupamentos)):\n",
        "                if agrupamentos[i, j] == componente:\n",
        "                    return i, j\n",
        "\n",
        "    def get_low(componente):\n",
        "        for i in range(len(agrupamentos)-1, -1, -1):\n",
        "            for j in range(len(agrupamentos)-1, -1, -1):\n",
        "                if agrupamentos[i, j] == componente:\n",
        "                    return i, j\n",
        "\n",
        "    X_high, Y_high = get_high(componente)\n",
        "    X_low, Y_low = get_low(componente)\n",
        "    return (X_high+X_low)/2, (Y_high+Y_low)/2\n",
        "\n",
        "def euclidiana(primeiro, segundo):\n",
        "    return math.sqrt((pow(primeiro[0]-segundo[0], 2)+pow(primeiro[1]-segundo[1], 2)))\n",
        "\n",
        "\n",
        "def d4(primeiro, segundo):\n",
        "    return abs(primeiro[0]-segundo[0])+abs(primeiro[1]-segundo[1])\n",
        "\n",
        "\n",
        "def d8(primeiro, segundo):\n",
        "    return max(abs(primeiro[0]-segundo[0]), abs(primeiro[1]-segundo[1]))\n",
        "\n",
        "print(\"Distancias entre centro dos componentes {} e {}:\".format(\n",
        "    primeiro_componente, segundo_componente))\n",
        "print(\"De: {}.\".format(euclidiana(\n",
        "    get_center(primeiro_componente),\n",
        "    get_center(segundo_componente)\n",
        ")))\n",
        "print(\"D4: {}.\".format(d4(\n",
        "    get_center(primeiro_componente),\n",
        "    get_center(segundo_componente)\n",
        ")))\n",
        "print(\"D8: {}.\".format(d8(\n",
        "    get_center(primeiro_componente),\n",
        "    get_center(segundo_componente)\n",
        ")))"
      ],
      "metadata": {
        "colab": {
          "base_uri": "https://localhost:8080/"
        },
        "id": "pyIzCZuViTi_",
        "outputId": "a8676f9f-47ae-495f-fde5-40b0b7ba5916"
      },
      "execution_count": null,
      "outputs": [
        {
          "output_type": "stream",
          "name": "stdout",
          "text": [
            "Distancias entre centro dos componentes 4 e 2:\n",
            "De: 128.0.\n",
            "D4: 128.0.\n",
            "D8: 128.0.\n"
          ]
        }
      ]
    }
  ]
}